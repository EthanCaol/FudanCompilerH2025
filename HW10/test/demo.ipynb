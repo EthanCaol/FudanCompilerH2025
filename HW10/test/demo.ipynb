{
 "cells": [
  {
   "cell_type": "code",
   "execution_count": 25,
   "id": "abd7536f",
   "metadata": {},
   "outputs": [
    {
     "name": "stdout",
     "output_type": "stream",
     "text": [
      "./output_example/hw10/hw10test07.4-ssa-opt.quad ./input_example/hw10/hw10test07.4-zopt.txt\n",
      "./output_example/hw10/hw10test01.4-ssa-opt.quad ./input_example/hw10/hw10test01.4-zopt.txt\n",
      "./output_example/hw10/hw10test02.4-ssa-opt.quad ./input_example/hw10/hw10test02.4-zopt.txt\n",
      "./output_example/hw10/hw10test00.4-ssa-opt.quad ./input_example/hw10/hw10test00.4-zopt.txt\n",
      "./output_example/hw10/hw10test03.4-ssa-opt.quad ./input_example/hw10/hw10test03.4-zopt.txt\n",
      "./output_example/hw10/hw10test05.4-ssa-opt.quad ./input_example/hw10/hw10test05.4-zopt.txt\n",
      "./output_example/hw10/hw10test06.4-ssa-opt.quad ./input_example/hw10/hw10test06.4-zopt.txt\n",
      "./output_example/hw10/hw10test04.4-ssa-opt.quad ./input_example/hw10/hw10test04.4-zopt.txt\n"
     ]
    }
   ],
   "source": [
    "import os\n",
    "\n",
    "my_dir = \"./input_example/hw10\"\n",
    "example_dir = \"./output_example/hw10\"\n",
    "for asm_file in os.listdir(example_dir):\n",
    "    if not asm_file.endswith(\".4-ssa-opt.quad\"):\n",
    "        continue\n",
    "    asm_my_file = asm_file.replace(\".4-ssa-opt.quad\", \".4-zopt.txt\")\n",
    "    asm_path = os.path.join(example_dir, asm_file)\n",
    "    asm_my_path = os.path.join(my_dir, asm_my_file)\n",
    "\n",
    "    print(asm_path, asm_my_path)\n",
    "\n",
    "    # 第一次遍历：比较行数\n",
    "    with open(asm_path) as f1, open(asm_my_path) as f2:\n",
    "        lines1 = sum(1 for _ in f1)\n",
    "        lines2 = sum(1 for _ in f2)\n",
    "        assert lines1 == lines2, f\"行数不匹配: {lines1} vs {lines2}\"\n",
    "\n",
    "    # 第二次遍历：逐行严格比较\n",
    "    with open(asm_path) as f1, open(asm_my_path) as f2:\n",
    "        line_num = 0\n",
    "\n",
    "        for line1, line2 in zip(f1, f2):\n",
    "            line_num += 1\n",
    "            \n",
    "            if \"Function\" in line1:\n",
    "                continue\n",
    "\n",
    "            if line1 != line2:  # 严格比较，包括所有空白字符\n",
    "                line1_part = line1.split(\"use:\")\n",
    "                line2_part = line2.split(\"use:\")\n",
    "                \n",
    "                if line1_part[0] == line2_part[0]:\n",
    "                    line1_use = line1_part[1].strip().split(\" \")\n",
    "                    line2_use = line2_part[1].strip().split(\" \")\n",
    "                    if set(line1_use) == set(line2_use):\n",
    "                        continue\n",
    "                \n",
    "                print(f\"  第{line_num}行:\")\n",
    "                print(f\"  {asm_path}: {repr(line1)}\")\n",
    "                print(f\"  {asm_my_path}     : {repr(line2)}\")"
   ]
  }
 ],
 "metadata": {
  "kernelspec": {
   "display_name": "base",
   "language": "python",
   "name": "python3"
  },
  "language_info": {
   "codemirror_mode": {
    "name": "ipython",
    "version": 3
   },
   "file_extension": ".py",
   "mimetype": "text/x-python",
   "name": "python",
   "nbconvert_exporter": "python",
   "pygments_lexer": "ipython3",
   "version": "3.12.9"
  }
 },
 "nbformat": 4,
 "nbformat_minor": 5
}
