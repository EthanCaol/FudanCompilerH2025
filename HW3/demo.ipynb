{
 "cells": [
  {
   "cell_type": "code",
   "execution_count": 4,
   "metadata": {},
   "outputs": [
    {
     "name": "stdout",
     "output_type": "stream",
     "text": [
      "example.2.ast: OK\n",
      "test1.2.ast: OK\n",
      "fibonacci.2-semant.ast: NG\n",
      "bubblesort.2-semant.ast: NG\n",
      "fibonacci.2.ast: OK\n",
      "test2.2.ast: OK\n",
      "example.2-semant.ast: NG\n",
      "bubblesort.2.ast: OK\n",
      "test1.2-semant.ast: NG\n",
      "test2.2-semant.ast: NG\n"
     ]
    }
   ],
   "source": [
    "# 将当前文件夹中的文件(例如example.2.ast)和外文件夹中的对应文件(例如example.2.xml)进行比对\n",
    "# 直接打印比对结果\n",
    "\n",
    "import os\n",
    "import sys\n",
    "import re\n",
    "\n",
    "\n",
    "folder1 = \"./test/output_example\"\n",
    "folder2 = \"./test\"\n",
    "for filename in os.listdir(folder1):\n",
    "    if not filename.endswith('.ast'):\n",
    "        continue\n",
    "    with open(os.path.join(folder1, filename), 'r') as f:\n",
    "        ast1 = f.read()\n",
    "    with open(os.path.join(folder2, re.sub(r'\\.ast$', '.xml', filename)), 'r') as f:\n",
    "        ast2 = f.read()\n",
    "    if ast1 == ast2:\n",
    "        print(f'{filename}: OK')\n",
    "    else:\n",
    "        print(f'{filename}: NG')\n",
    "        # print('  AST1:', ast1)\n",
    "        # print('  AST2:', ast2)"
   ]
  }
 ],
 "metadata": {
  "kernelspec": {
   "display_name": "base",
   "language": "python",
   "name": "python3"
  },
  "language_info": {
   "codemirror_mode": {
    "name": "ipython",
    "version": 3
   },
   "file_extension": ".py",
   "mimetype": "text/x-python",
   "name": "python",
   "nbconvert_exporter": "python",
   "pygments_lexer": "ipython3",
   "version": "3.12.9"
  }
 },
 "nbformat": 4,
 "nbformat_minor": 2
}
