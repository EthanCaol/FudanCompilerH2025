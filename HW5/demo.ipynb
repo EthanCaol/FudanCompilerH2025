{
 "cells": [
  {
   "cell_type": "code",
   "execution_count": 5,
   "metadata": {},
   "outputs": [
    {
     "name": "stdout",
     "output_type": "stream",
     "text": [
      "test2.2.ast: OK\n",
      "test2.2-semant.ast: OK\n"
     ]
    }
   ],
   "source": [
    "# 将当前文件夹中的文件(例如example.2.ast)和外文件夹中的对应文件(例如example.2.xml)进行比对\n",
    "# 直接打印比对结果\n",
    "\n",
    "import os\n",
    "import sys\n",
    "import re\n",
    "\n",
    "\n",
    "folder1 = \"./test/HW3/output_example\"\n",
    "folder2 = \"./test/HW3\"\n",
    "for filename in os.listdir(folder1):\n",
    "    if not filename.endswith(\".ast\"):\n",
    "        continue\n",
    "    if filename.startswith(\"test2\"):\n",
    "        with open(os.path.join(folder1, filename), \"r\") as f:\n",
    "            ast1 = f.read()\n",
    "        with open(os.path.join(folder2, filename + \".my\"), \"r\") as f:\n",
    "            ast2 = f.read()\n",
    "\n",
    "        if ast1 == ast2:\n",
    "            print(f\"{filename}: OK\")\n",
    "        else:\n",
    "            print(f\"{filename}: -NG\")\n",
    "            # print('  AST1:', ast1)\n",
    "        # print('  AST2:', ast2)"
   ]
  }
 ],
 "metadata": {
  "kernelspec": {
   "display_name": "base",
   "language": "python",
   "name": "python3"
  },
  "language_info": {
   "codemirror_mode": {
    "name": "ipython",
    "version": 3
   },
   "file_extension": ".py",
   "mimetype": "text/x-python",
   "name": "python",
   "nbconvert_exporter": "python",
   "pygments_lexer": "ipython3",
   "version": "3.12.9"
  }
 },
 "nbformat": 4,
 "nbformat_minor": 2
}
