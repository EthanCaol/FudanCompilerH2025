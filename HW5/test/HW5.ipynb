{
 "cells": [
  {
   "cell_type": "code",
   "execution_count": null,
   "metadata": {},
   "outputs": [
    {
     "name": "stdout",
     "output_type": "stream",
     "text": [
      "test0 pass\n",
      "test1 pass\n",
      "test2 pass\n",
      "test3 pass\n",
      "test4 pass\n",
      "test5 pass\n",
      "test6 pass\n",
      "test7 pass\n",
      "test8 pass\n",
      "test9 pass\n",
      "All Test PASS!\n"
     ]
    }
   ],
   "source": [
    "def read_file(filename):\n",
    "    with open(filename, \"r\", encoding=\"utf-8\") as f:\n",
    "        content = f.readlines()\n",
    "    return content\n",
    "\n",
    "for i in range(10):\n",
    "    print(f\"test{i}\", end=\"\")\n",
    "    ans = read_file(f\"test{i}.3.irp\")\n",
    "    my = read_file(f\"test{i}.3.irp.my\")\n",
    "\n",
    "    assert len(ans) == len(my), f\"Length mismatch for test{i}\"\n",
    "    for j in range(len(ans)):\n",
    "        ans_line = ans[j]\n",
    "        my_line = my[j]\n",
    "\n",
    "        if ans_line.strip().startswith(\"<FunctionDeclaration\"):\n",
    "            continue\n",
    "        \n",
    "        if ans_line.strip().startswith(\"<Memory\"):\n",
    "            continue\n",
    "\n",
    "        if \"temp=\" in ans_line:\n",
    "            continue\n",
    "\n",
    "        if \"label=\" in ans_line:\n",
    "            continue\n",
    "\n",
    "        if \"true=\" in ans_line:\n",
    "            continue\n",
    "\n",
    "        assert ans_line == my_line, f\"文件不相同 test{i} line {j+1}: {ans_line} != {my_line}\"\n",
    "    print(\" pass\")\n",
    "print(\"All Test PASS!\")"
   ]
  }
 ],
 "metadata": {
  "kernelspec": {
   "display_name": "base",
   "language": "python",
   "name": "python3"
  },
  "language_info": {
   "codemirror_mode": {
    "name": "ipython",
    "version": 3
   },
   "file_extension": ".py",
   "mimetype": "text/x-python",
   "name": "python",
   "nbconvert_exporter": "python",
   "pygments_lexer": "ipython3",
   "version": "3.12.9"
  }
 },
 "nbformat": 4,
 "nbformat_minor": 2
}
